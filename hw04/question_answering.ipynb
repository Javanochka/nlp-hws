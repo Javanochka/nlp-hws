{
 "cells": [
  {
   "cell_type": "code",
   "execution_count": 2,
   "metadata": {},
   "outputs": [],
   "source": [
    "import pandas as pd"
   ]
  },
  {
   "cell_type": "code",
   "execution_count": 3,
   "metadata": {},
   "outputs": [],
   "source": [
    "data = pd.read_csv(\"train_qa.csv\").reset_index(drop=True)"
   ]
  },
  {
   "cell_type": "code",
   "execution_count": 4,
   "metadata": {},
   "outputs": [],
   "source": [
    "m_sent = 0\n",
    "m_len_ans = 0\n",
    "m_words = 0\n",
    "for i in range(len(data)):\n",
    "    len_sent = len(data.iloc[i]['paragraph'].split('.'))\n",
    "    '''if len_sent == 77:\n",
    "        print(data.iloc[i])'''\n",
    "    m_sent = max(len_sent, m_sent)\n",
    "    m_words = max(m_words, len(data.iloc[i]['paragraph'].split()))\n",
    "    len_ans = len(data.iloc[i]['answer'].split())\n",
    "    '''if len_ans == 29:\n",
    "        print(data.iloc[i])'''\n",
    "    m_len_ans = max(m_len_ans, len_ans)"
   ]
  },
  {
   "cell_type": "code",
   "execution_count": 5,
   "metadata": {
    "scrolled": true
   },
   "outputs": [
    {
     "data": {
      "text/plain": [
       "'Во Франции пластика продолжала держаться парадного придворного направления эпохи Людовика XIV, все более и более вдаваясь в жеманство. Лучший скульптор этого времени Жан-Батист Лемуан (1704—1778; многочисленные бюсты и статуи современных знаменитостей). Его ученик Фальконе (1716—1791), даровитый автор петербургского памятника Петру Великому. В духе античного искусства старались трудиться Бушардон (1698—1762) и Пигаль (1714—1785; статуя маршала Морица Саксонского в Страсбурге). Французская школа прежде других сбросила с себя иго абсолютного классицизма и смело пошла по дороге реализма. Гудон (1741—1828) внес во французское ваяние большую простоту и жизненность; его знаменитая статуя Вольтера в Comedie Francaise (другой экземпляр — в Имп. Эрмитаже) с поразительной верностью передает наружность и саркастический характер фернейского философа. Ещё скульпторы Первой империи, Картелье, вышеупомянутый Шоде, Ф. Бозио (барельефы Вандомск. колонны, конная статуя Людовика XIV на площади Побед в Париже), Ф. Лемо (статуя Генриха IV на Нов. Мосту в Париже), Ж. Корто (фронтон палаты депутатов, апофеоза Наполеона I на триумф. ворот. Звезды в Париже) и их непосредственные ученики, корректные и элегантные, ещё холодны в своих композициях; но рядом с ними уже действуют три художника, вносящие во французское ваяние кипучую струю жизни. Это — Ф. Рюд, Дж. Прадье и Ж. Давид Анжерский. Первый из них ( Меркурий, привязывающий крылья к своим ногам , Молодой неаполитанский рыбак . Орлеанская дева , статуи в Луврском музее, и в особенности Волонтеры в 1792 году , группа на триумфальных воротах Звезды) приписывал крайнюю важность прямому наблюдению природы, сильно и правдиво выражал движение и чувство, и в то же время отличался удивительною тонкостью отделки. В нач. XIX в. Давид Анжерский и Прадье стремились примирить античные традиции с романтизмом. Талант Прадье был более внешний и проявлялся преимущественно в изящной обработке форм женского тела, в создании обворожительных, живых, но чувственных фигур ( Легкая поэзия , Флора , Грации , Вакханка и сатир и пр.). Решительный приверженец реализма и враг всякой условности, Давид Анжерский заботился не столько о красоте линий и, в сложных композициях, о ясном расчленении групп, сколько о точной характеристике изображаемого; его работы (Тимпан парижского Пантеона, статуя Конде в Версале, множество портретных статуй, бюстов и медальонов) всегда проникнуты глубокой идеей и высокой выразительностью, производящей тем сильнейшее впечатление, что она вложена в формы, прямо взятые из действительности. Эти достоинства сделали Давида самым влиятельным из скульпторов недавно сошедшего со сцены поколения не только во Франции, но и в Бельгии. Рядом с тремя упомянутыми вождями французской скульптуры Нового времени должен быть поставлен Ф. Дюре, достойный последователь Рюда и Давида Анжерского ( Неаполитанский импровизатор , Неаполитанский танцор , статуя Рашели в рола Федры в театре Франц. комедии в Париже), образовавший, в свою очередь, талантливого ученика Э. Делапланша ( Материнская любовь , Музыка , портрет Обера). Многочисленные ученики и последователи Прадье трудились вообще в его духе, иногда заходя ещё далее, чем он, в пристрастии к чувственности, иногда умеряя её стремлением к более чистому идеалу и благородной грации и постоянно заботясь о доведении технического исполнения своих работ до высшей степени совершенства. К группе этих художников относятся: О. Курте ( Фавн и центаврка , Леда , прекрасный портрет Адриенны Лекуврер в театре Французской комедии в Париже), А. Этекс ( Каин , Геркулес и Антей и две группы на триумфальных воротах Звезды: Сопротивление и Мир ), Ш. Симар ( Орест, преследуемый фуриями ), Э. Гильом (группа Музыка у Новой Оперы, в Париже, многие портретные бюсты и статуи), Идрак ( Раненый амур и Саламбо в Люксемб. музее), Ж. Б. Клезингер ( Сафо , Ариадна с тигром , Опьяневшая вакханка ) и А. Шапю ( Жанна д’Арк в Люксембургском музее и Юность на памятнике Реньо, в Парижском училище изобразительных искусств). Обширная и постоянно разрастающаяся школа трудится в том реалистическом направлении, сильный толчок к которому был сделан Давидом Анжерским. Из среды представителей этой школы выдаются Д. Фойятье (монумент Жанне д’Арк в Орлеане, статуи Цинцинната и Спартака в Тюильрийском саду в Париже), Э. Милле ( Аполлон , на вершине здания Большой оперы, и Кассандра в Люксембургском музее в Париже), А. Прео ( Убийство и Молчание , коллоссальные бюсты на кладбище Лашеза в Париже) и А. Каррье-Белез, самый плодовитый из учеников Давида и самый близкий к нему по манере ( Мадонна в парижском центре С.-Венсень-де-Поль). Со второй половины XIX в. преобладание получают реалистическое и натуралистическое направление: Барриас, Бартоломе, Карпо, Делапланш, Дюбуа, Фальтер, Фремье, Гардэ, Мерсье, гениальный Роден. Натурализм современной французской школы нашел себе последнее, яркое выражение в произведениях Ж.-Б. Карло, ученика Давида, Рюда и Дюре, заимствовавшего от каждого из них то, что есть в них лучшего, и соединившего их достоинства с тем, чего, быть может, им недоставало, — со своеобразным, мощным, даже необузданным талантом, родственным с талантом Микеланджело и, в то же время, Рубенса ( Молодой неаполитанец-рыбак , пластические украшения павильона Флоры в Лувре, знаменитая группа Пляска у Большой оперы в Париже). Несмотря на раннюю смерть этого своеобразного мастера, он оставил глубокий след в искусстве и образовал толпу учеников, из которых достойны быть упомянутыми Ж. Дали и графиня Колонна, известная под псевдонимом Марчелло ( Пифия на лестнице Большой оперы в Париже). Реализм, преобладающий во французской скульптуре того времени, не исключает, однако, существования в ней и других стремлений. Главою классической школы явился в 1839 г. Ф. Жуффруа ( Девушка, поверяющая свою тайну Амуру в Люксембургском музее), из последователей которого особенно известны Л. Барриас ( Клятва Спартака и Моцарт, настраивающий скрипку ) и Р. де Сен-Марсо ( Гений, охраняющий гробовую тайну в Люксембургском музее); но лучший из учеников Жуффруа, А. Фальгьер, выказывает явную склонность к реализму ( Египетская танцовщица , Диана и прочие), П. Дюбуа и А. Мерсье вдохновляются скульптурными памятниками цветущей поры итальянского Возрождения, ища гармонии и красоты в спокойных позах (из работ первого особенно замечательны группы на памятник Ламорисьеру: Воинская храбрость и Христианская любовь , а также Неаполитанский певец XV стол. и Ева ; из произведений второго — Давид в Люксембургском музее, памятник Мишеле на кладбище Лашеза в Париже и группа Quand même ). Наконец, Франция имеет право гордиться несколькими ваятелями, великолепно воспроизводящими животных. Самое видное место среди этих художников занимает Л. Л. Барри ( Лев, пожирающий змею , Отдыхающий лев и небольшие бронзовые группы), которого можно считать истинным основателем этой пластической отрасли и первостепенным по ней мастером. Кроме него, вполне заслуженною известностью в том же роде пользуются Э. Фремье, О. Каен, Л. Навале и А. Бартольди, из которых последний, независимо от произведений по своей специальности, прославился также колоссальною статуей Свободы , принесенной французским правительством в 1886 г. в дар Соединенным Штатам Америки.'"
      ]
     },
     "execution_count": 5,
     "metadata": {},
     "output_type": "execute_result"
    }
   ],
   "source": [
    "data.loc[26602]['paragraph']"
   ]
  },
  {
   "cell_type": "code",
   "execution_count": 6,
   "metadata": {},
   "outputs": [
    {
     "data": {
      "text/plain": [
       "77"
      ]
     },
     "execution_count": 6,
     "metadata": {},
     "output_type": "execute_result"
    }
   ],
   "source": [
    "m_sent"
   ]
  },
  {
   "cell_type": "code",
   "execution_count": 7,
   "metadata": {},
   "outputs": [
    {
     "name": "stdout",
     "output_type": "stream",
     "text": [
      "paragraph_id                                                 1310\n",
      "question_id                                                 61603\n",
      "paragraph       Четвёртый альбом Issues (1999) группы Korn так...\n",
      "question        Сколько в первую неделю было продано копий аль...\n",
      "answer          Четвёртый альбом Issues (1999) группы Korn так...\n",
      "Name: 34157, dtype: object\n"
     ]
    }
   ],
   "source": [
    "print(data.iloc[34157])"
   ]
  },
  {
   "cell_type": "code",
   "execution_count": 8,
   "metadata": {},
   "outputs": [],
   "source": [
    "data = data.drop([34157])"
   ]
  },
  {
   "cell_type": "code",
   "execution_count": 9,
   "metadata": {},
   "outputs": [
    {
     "data": {
      "text/plain": [
       "1041"
      ]
     },
     "execution_count": 9,
     "metadata": {},
     "output_type": "execute_result"
    }
   ],
   "source": [
    "m_words"
   ]
  },
  {
   "cell_type": "code",
   "execution_count": 19,
   "metadata": {},
   "outputs": [],
   "source": [
    "distr = list(map(lambda x: len(x.split()), data['paragraph'].values))\n"
   ]
  },
  {
   "cell_type": "code",
   "execution_count": 30,
   "metadata": {},
   "outputs": [
    {
     "data": {
      "image/png": "[encoded data removed]",
      "text/plain": [
       "<Figure size 432x288 with 1 Axes>"
      ]
     },
     "metadata": {
      "needs_background": "light"
     },
     "output_type": "display_data"
    }
   ],
   "source": [
    "import matplotlib.pyplot as plt\n",
    "\n",
    "plt.hist(distr, bins=range(40, 300))\n",
    "plt.show()"
   ]
  },
  {
   "cell_type": "code",
   "execution_count": 24,
   "metadata": {},
   "outputs": [],
   "source": [
    "distr2 = list(map(lambda x: len(x.split()), data['answer'].values))\n"
   ]
  },
  {
   "cell_type": "code",
   "execution_count": 14,
   "metadata": {},
   "outputs": [
    {
     "data": {
      "image/png": "[encoded data removed]",
      "text/plain": [
       "<Figure size 432x288 with 1 Axes>"
      ]
     },
     "metadata": {
      "needs_background": "light"
     },
     "output_type": "display_data"
    }
   ],
   "source": [
    "plt.hist(distr2,bins=range(0, 20))\n",
    "plt.show()"
   ]
  },
  {
   "cell_type": "code",
   "execution_count": 85,
   "metadata": {},
   "outputs": [
    {
     "data": {
      "text/plain": [
       "'Первые упоминания о строении человеческого тела встречаются в Древнем Египте. В XXVII веке до н. э. египетский врач Имхотеп описал некоторые органы и их функции, в частности головной мозг, деятельность сердца, распространение крови по сосудам. В древнекитайской книге Нейцзин (XI—VII вв. до н. э.) упоминаются сердце, печень, лёгкие и другие органы тела человека. В индийской книге Аюрведа ( Знание жизни , IX-III вв. до н. э.) содержится большой объём анатомических данных о мышцах, нервах, типах телосложения и темперамента, головном и спинном мозге.'"
      ]
     },
     "execution_count": 85,
     "metadata": {},
     "output_type": "execute_result"
    }
   ],
   "source": [
    "data['paragraph'][0]"
   ]
  },
  {
   "cell_type": "code",
   "execution_count": null,
   "metadata": {},
   "outputs": [],
   "source": [
    "def gen_possible(text, answer):\n",
    "    "
   ]
  },
  {
   "cell_type": "code",
   "execution_count": null,
   "metadata": {
    "scrolled": true
   },
   "outputs": [],
   "source": []
  },
  {
   "cell_type": "code",
   "execution_count": 87,
   "metadata": {},
   "outputs": [],
   "source": [
    "def prepare_sample(text, question, answer):\n",
    "    answer = answer.lower()\n",
    "    while (answer[0] == '.'):\n",
    "        answer = answer[1:]\n",
    "    while (answer[-1] in ['.', '?']):\n",
    "        answer = answer[:-1]\n",
    "        \n",
    "    if answer not in text.lower():\n",
    "        return [], []\n",
    "    \n",
    "    first = text.lower().find(answer)\n",
    "    last = first + len(answer)\n",
    "    \n",
    "    text_1 = text[:first].strip()\n",
    "    text_2 = text[first:last].strip()\n",
    "    text_3 = text[last:].strip()\n",
    "    text_tokens = tokenizer.tokenize(text_1)\n",
    "    first = len(text_tokens)\n",
    "    text_tokens += tokenizer.tokenize(text_2)\n",
    "    last = len(text_tokens) - 1\n",
    "    text_tokens += tokenizer.tokenize(text_3)\n",
    "    \n",
    "    question_tokens = tokenizer.tokenize(question)\n",
    "    \n",
    "    length = MAX_TEXT_LEN - len(question_tokens) - 3\n",
    "    if len(text_tokens) > length:\n",
    "        part_length = length // 3\n",
    "        stride = 3 * part_length\n",
    "        nrow = np.ceil(len(text_tokens) / part_length) - 2\n",
    "        indexes = part_length * np.arange(nrow)[:, None] + np.arange(stride)\n",
    "        indexes = indexes.astype(np.int32)\n",
    "\n",
    "        max_index = indexes.max()\n",
    "        diff = max_index + 1 - len(text_tokens)\n",
    "        text_tokens += diff * [tokenizer.pad_token]\n",
    "\n",
    "        text_tokens = np.array(text_tokens)[indexes].tolist()\n",
    "        \n",
    "        tokens = []\n",
    "        labels = []\n",
    "        for i, ts in enumerate(text_tokens):\n",
    "            while ts[-1] == tokenizer.pad_token:\n",
    "                ts = ts[:-1]\n",
    "                \n",
    "            tokens += [ts]\n",
    "                \n",
    "            lfirst = first - i * part_length\n",
    "            llast = last - i * part_length\n",
    "            \n",
    "            mask = lfirst >= 0 and lfirst < len(ts) and llast >= 0 and llast < len(ts)\n",
    "            labels += [((lfirst if mask else 0, mask), (llast if mask else 0, mask))]\n",
    "    else:\n",
    "        tokens = [text_tokens]\n",
    "        labels = [((first, 1), (last, 1))]\n",
    "        \n",
    "    for i in range(len(tokens)):\n",
    "        tokens[i] = [tokenizer.cls_token] + \\\n",
    "                    question_tokens + \\\n",
    "                    [tokenizer.sep_token] + \\\n",
    "                    tokens[i] + \\\n",
    "                    [tokenizer.sep_token]\n",
    "        labels[i] = ((labels[i][0][0] + 2 + len(question_tokens), labels[i][0][1]),\n",
    "                     (labels[i][1][0] + 2 + len(question_tokens), labels[i][1][1]))\n",
    "\n",
    "    return tokens, labels"
   ]
  },
  {
   "cell_type": "code",
   "execution_count": 88,
   "metadata": {},
   "outputs": [],
   "source": [
    "import numpy as np"
   ]
  },
  {
   "cell_type": "code",
   "execution_count": 89,
   "metadata": {},
   "outputs": [
    {
     "ename": "NameError",
     "evalue": "name 'tokenizer' is not defined",
     "output_type": "error",
     "traceback": [
      "\u001b[0;31m---------------------------------------------------------------------------\u001b[0m",
      "\u001b[0;31mNameError\u001b[0m                                 Traceback (most recent call last)",
      "\u001b[0;32m<ipython-input-89-c2616b330257>\u001b[0m in \u001b[0;36m<module>\u001b[0;34m\u001b[0m\n\u001b[0;32m----> 1\u001b[0;31m \u001b[0mprint\u001b[0m\u001b[0;34m(\u001b[0m\u001b[0mprepare_sample\u001b[0m\u001b[0;34m(\u001b[0m\u001b[0mdata\u001b[0m\u001b[0;34m[\u001b[0m\u001b[0;34m'paragraph'\u001b[0m\u001b[0;34m]\u001b[0m\u001b[0;34m[\u001b[0m\u001b[0;36m0\u001b[0m\u001b[0;34m]\u001b[0m\u001b[0;34m,\u001b[0m \u001b[0mdata\u001b[0m\u001b[0;34m[\u001b[0m\u001b[0;34m'question'\u001b[0m\u001b[0;34m]\u001b[0m\u001b[0;34m[\u001b[0m\u001b[0;36m0\u001b[0m\u001b[0;34m]\u001b[0m\u001b[0;34m,\u001b[0m \u001b[0mdata\u001b[0m\u001b[0;34m[\u001b[0m\u001b[0;34m'answer'\u001b[0m\u001b[0;34m]\u001b[0m\u001b[0;34m[\u001b[0m\u001b[0;36m0\u001b[0m\u001b[0;34m]\u001b[0m\u001b[0;34m)\u001b[0m\u001b[0;34m)\u001b[0m\u001b[0;34m\u001b[0m\u001b[0;34m\u001b[0m\u001b[0m\n\u001b[0m",
      "\u001b[0;32m<ipython-input-87-64bfc0fd3cb8>\u001b[0m in \u001b[0;36mprepare_sample\u001b[0;34m(text, question, answer)\u001b[0m\n\u001b[1;32m     15\u001b[0m     \u001b[0mtext_2\u001b[0m \u001b[0;34m=\u001b[0m \u001b[0mtext\u001b[0m\u001b[0;34m[\u001b[0m\u001b[0mfirst\u001b[0m\u001b[0;34m:\u001b[0m\u001b[0mlast\u001b[0m\u001b[0;34m]\u001b[0m\u001b[0;34m.\u001b[0m\u001b[0mstrip\u001b[0m\u001b[0;34m(\u001b[0m\u001b[0;34m)\u001b[0m\u001b[0;34m\u001b[0m\u001b[0;34m\u001b[0m\u001b[0m\n\u001b[1;32m     16\u001b[0m     \u001b[0mtext_3\u001b[0m \u001b[0;34m=\u001b[0m \u001b[0mtext\u001b[0m\u001b[0;34m[\u001b[0m\u001b[0mlast\u001b[0m\u001b[0;34m:\u001b[0m\u001b[0;34m]\u001b[0m\u001b[0;34m.\u001b[0m\u001b[0mstrip\u001b[0m\u001b[0;34m(\u001b[0m\u001b[0;34m)\u001b[0m\u001b[0;34m\u001b[0m\u001b[0;34m\u001b[0m\u001b[0m\n\u001b[0;32m---> 17\u001b[0;31m     \u001b[0mtext_tokens\u001b[0m \u001b[0;34m=\u001b[0m \u001b[0mtokenizer\u001b[0m\u001b[0;34m.\u001b[0m\u001b[0mtokenize\u001b[0m\u001b[0;34m(\u001b[0m\u001b[0mtext_1\u001b[0m\u001b[0;34m)\u001b[0m\u001b[0;34m\u001b[0m\u001b[0;34m\u001b[0m\u001b[0m\n\u001b[0m\u001b[1;32m     18\u001b[0m     \u001b[0mfirst\u001b[0m \u001b[0;34m=\u001b[0m \u001b[0mlen\u001b[0m\u001b[0;34m(\u001b[0m\u001b[0mtext_tokens\u001b[0m\u001b[0;34m)\u001b[0m\u001b[0;34m\u001b[0m\u001b[0;34m\u001b[0m\u001b[0m\n\u001b[1;32m     19\u001b[0m     \u001b[0mtext_tokens\u001b[0m \u001b[0;34m+=\u001b[0m \u001b[0mtokenizer\u001b[0m\u001b[0;34m.\u001b[0m\u001b[0mtokenize\u001b[0m\u001b[0;34m(\u001b[0m\u001b[0mtext_2\u001b[0m\u001b[0;34m)\u001b[0m\u001b[0;34m\u001b[0m\u001b[0;34m\u001b[0m\u001b[0m\n",
      "\u001b[0;31mNameError\u001b[0m: name 'tokenizer' is not defined"
     ]
    }
   ],
   "source": [
    "print(prepare_sample(data['paragraph'][0], data['question'][0], data['answer'][0]))"
   ]
  },
  {
   "cell_type": "code",
   "execution_count": 33,
   "metadata": {},
   "outputs": [
    {
     "name": "stdout",
     "output_type": "stream",
     "text": [
      "[{'analysis': [{'lex': 'ай', 'wt': 0.9841479957, 'gr': 'INTJ='}], 'text': 'Ай'}, {'text': ' '}, {'analysis': [{'lex': 'да', 'wt': 0.3749187405, 'gr': 'PART='}], 'text': 'да'}, {'text': ' '}, {'analysis': [{'lex': 'а', 'wt': 0.9822148501, 'gr': 'CONJ='}], 'text': 'А'}, {'text': '.'}, {'analysis': [{'lex': 'с', 'wt': 2.2169018090000002e-05, 'gr': 'S,сокр=(пр,мн|пр,ед|вин,мн|вин,ед|дат,мн|дат,ед|род,мн|род,ед|твор,мн|твор,ед|им,мн|им,ед)'}], 'text': 'С'}, {'text': '. '}, {'analysis': [{'lex': 'пушкин', 'wt': 0.9968761998000001, 'gr': 'S,фам,муж,од=им,ед'}], 'text': 'Пушкин'}, {'text': '! '}, {'analysis': [{'lex': 'ай', 'wt': 0.9841479957, 'gr': 'INTJ='}], 'text': 'Ай'}, {'text': ' '}, {'analysis': [{'lex': 'да', 'wt': 0.6249755963, 'gr': 'CONJ='}], 'text': 'да'}, {'text': ' '}, {'analysis': [{'lex': 'сукин', 'wt': 1, 'gr': 'A,полн,притяж=(вин,ед,муж,неод|им,ед,муж)'}], 'text': 'сукин'}, {'text': ' '}, {'analysis': [{'lex': 'сын', 'wt': 1, 'gr': 'S,муж,од=им,ед'}], 'text': 'сын'}, {'text': '! '}, {'analysis': [{'lex': 'что', 'wt': 0.2934446278, 'gr': 'SPRO,ед,сред,неод=(вин|им)'}], 'text': 'Что'}, {'text': ' '}, {'analysis': [{'lex': 'же', 'wt': 0.9351936974, 'gr': 'PART='}], 'text': 'же'}, {'text': ' '}, {'analysis': [{'lex': 'ты', 'wt': 1, 'gr': 'SPRO,ед,2-л=им'}], 'text': 'ты'}, {'text': ' '}, {'analysis': [{'lex': 'делать', 'wt': 1, 'gr': 'V,несов,пе=непрош,ед,изъяв,2-л'}], 'text': 'делаешь'}, {'text': '! '}, {'analysis': [{'lex': 'не', 'wt': 1, 'gr': 'PART='}], 'text': 'Не'}, {'text': ' '}, {'analysis': [{'lex': 'идти', 'wt': 1, 'gr': 'V,несов,нп=ед,пов,2-л'}], 'text': 'иди'}, {'text': ' '}, {'analysis': [{'lex': 'в', 'wt': 0.9999917878000001, 'gr': 'PR='}], 'text': 'в'}, {'text': ' '}, {'analysis': [{'lex': 'лес', 'wt': 0.9992945031, 'gr': 'S,муж,неод=(вин,ед|им,ед)'}], 'text': 'лес'}, {'text': '\\n'}]\n"
     ]
    }
   ],
   "source": [
    "from pymystem3 import Mystem\n",
    "\n",
    "m = Mystem()\n",
    "#    texts = list(map(lambda line: m.lemmatize(line.strip()), f.readlines()))\n",
    "\n",
    "print(m.analyze(\"Ай да А.С. Пушкин! Ай да сукин сын! Что же ты делаешь! Не иди в лес\"))"
   ]
  },
  {
   "cell_type": "code",
   "execution_count": 36,
   "metadata": {},
   "outputs": [
    {
     "ename": "SyntaxError",
     "evalue": "invalid syntax (<ipython-input-36-13d0ba584ea2>, line 7)",
     "output_type": "error",
     "traceback": [
      "\u001b[0;36m  File \u001b[0;32m\"<ipython-input-36-13d0ba584ea2>\"\u001b[0;36m, line \u001b[0;32m7\u001b[0m\n\u001b[0;31m    dic = {'S': (lambda: S += 1)}\u001b[0m\n\u001b[0m                            ^\u001b[0m\n\u001b[0;31mSyntaxError\u001b[0m\u001b[0;31m:\u001b[0m invalid syntax\n"
     ]
    }
   ],
   "source": [
    "S = 0\n",
    "V = 0\n",
    "A = 0\n",
    "PR = 0\n",
    "ADV = 0\n",
    "CONJ = 0\n",
    "dic = {'S': (def f(): )}"
   ]
  },
  {
   "cell_type": "code",
   "execution_count": 43,
   "metadata": {},
   "outputs": [],
   "source": [
    "def get_stat_mystem(phrase):\n",
    "    analyzed = m.analyze(phrase)\n",
    "    stats = {'S': 0, 'V': 0, 'A':0, 'PR':0, 'ADV': 0, 'CONJ': 0}\n",
    "    for t in analyzed:\n",
    "        if 'analysis' in t:\n",
    "            if 'gr' in t['analysis'][0]:\n",
    "                gr = t['analysis'][0]['gr'].split('=')[0].split(',')[0]\n",
    "                if gr in stats:\n",
    "                    stats[gr] += 1\n",
    "    print(stats.values())\n",
    "    return list(map(lambda x: x / len(analyzed), list(stats.values())))"
   ]
  },
  {
   "cell_type": "code",
   "execution_count": 45,
   "metadata": {},
   "outputs": [
    {
     "name": "stdout",
     "output_type": "stream",
     "text": [
      "dict_values([4, 2, 1, 1, 0, 2])\n"
     ]
    }
   ],
   "source": [
    "meow = get_stat_mystem(\"Ай да А.С. Пушкин! Ай да сукин сын! Что же ты делаешь! Не иди в лес\")"
   ]
  },
  {
   "cell_type": "code",
   "execution_count": 46,
   "metadata": {},
   "outputs": [],
   "source": [
    "l = [1, 2, 3, *meow]"
   ]
  },
  {
   "cell_type": "code",
   "execution_count": 47,
   "metadata": {},
   "outputs": [
    {
     "data": {
      "text/plain": [
       "[1,\n",
       " 2,\n",
       " 3,\n",
       " 0.11764705882352941,\n",
       " 0.058823529411764705,\n",
       " 0.029411764705882353,\n",
       " 0.029411764705882353,\n",
       " 0.0,\n",
       " 0.058823529411764705]"
      ]
     },
     "execution_count": 47,
     "metadata": {},
     "output_type": "execute_result"
    }
   ],
   "source": [
    "l"
   ]
  },
  {
   "cell_type": "code",
   "execution_count": 50,
   "metadata": {},
   "outputs": [],
   "source": [
    "l = []\n",
    "l = l + [1, 2, 3]"
   ]
  },
  {
   "cell_type": "code",
   "execution_count": 51,
   "metadata": {},
   "outputs": [
    {
     "data": {
      "text/plain": [
       "[1, 2, 3]"
      ]
     },
     "execution_count": 51,
     "metadata": {},
     "output_type": "execute_result"
    }
   ],
   "source": [
    "l"
   ]
  },
  {
   "cell_type": "code",
   "execution_count": 52,
   "metadata": {},
   "outputs": [
    {
     "data": {
      "text/plain": [
       "[1, 2, 3, 3, 4, 5]"
      ]
     },
     "execution_count": 52,
     "metadata": {},
     "output_type": "execute_result"
    }
   ],
   "source": [
    "l + [3, 4, 5]"
   ]
  },
  {
   "cell_type": "code",
   "execution_count": 53,
   "metadata": {},
   "outputs": [
    {
     "data": {
      "text/plain": [
       "[1, 2, 3]"
      ]
     },
     "execution_count": 53,
     "metadata": {},
     "output_type": "execute_result"
    }
   ],
   "source": [
    "l"
   ]
  },
  {
   "cell_type": "code",
   "execution_count": 6,
   "metadata": {},
   "outputs": [],
   "source": [
    "aba = [['meow', 'chika', 'ha'], [1, 2, 3], [4, 5, 6], [7, 8, 9]]"
   ]
  },
  {
   "cell_type": "code",
   "execution_count": 7,
   "metadata": {},
   "outputs": [],
   "source": [
    "import numpy as np\n",
    "\n",
    "daba = np.array(aba)"
   ]
  },
  {
   "cell_type": "code",
   "execution_count": 8,
   "metadata": {},
   "outputs": [],
   "source": [
    "import pandas as pd"
   ]
  },
  {
   "cell_type": "code",
   "execution_count": 12,
   "metadata": {},
   "outputs": [
    {
     "data": {
      "text/plain": [
       "array([['meow', 'chika', 'ha'],\n",
       "       ['1', '2', '3'],\n",
       "       ['4', '5', '6'],\n",
       "       ['7', '8', '9']], dtype='<U5')"
      ]
     },
     "execution_count": 12,
     "metadata": {},
     "output_type": "execute_result"
    }
   ],
   "source": [
    "daba"
   ]
  },
  {
   "cell_type": "code",
   "execution_count": 13,
   "metadata": {},
   "outputs": [],
   "source": [
    "df = pd.DataFrame(daba[1:], columns=daba[0])"
   ]
  },
  {
   "cell_type": "code",
   "execution_count": 14,
   "metadata": {},
   "outputs": [
    {
     "data": {
      "text/html": [
       "<div>\n",
       "<style scoped>\n",
       "    .dataframe tbody tr th:only-of-type {\n",
       "        vertical-align: middle;\n",
       "    }\n",
       "\n",
       "    .dataframe tbody tr th {\n",
       "        vertical-align: top;\n",
       "    }\n",
       "\n",
       "    .dataframe thead th {\n",
       "        text-align: right;\n",
       "    }\n",
       "</style>\n",
       "<table border=\"1\" class=\"dataframe\">\n",
       "  <thead>\n",
       "    <tr style=\"text-align: right;\">\n",
       "      <th></th>\n",
       "      <th>meow</th>\n",
       "      <th>chika</th>\n",
       "      <th>ha</th>\n",
       "    </tr>\n",
       "  </thead>\n",
       "  <tbody>\n",
       "    <tr>\n",
       "      <th>0</th>\n",
       "      <td>1</td>\n",
       "      <td>2</td>\n",
       "      <td>3</td>\n",
       "    </tr>\n",
       "    <tr>\n",
       "      <th>1</th>\n",
       "      <td>4</td>\n",
       "      <td>5</td>\n",
       "      <td>6</td>\n",
       "    </tr>\n",
       "    <tr>\n",
       "      <th>2</th>\n",
       "      <td>7</td>\n",
       "      <td>8</td>\n",
       "      <td>9</td>\n",
       "    </tr>\n",
       "  </tbody>\n",
       "</table>\n",
       "</div>"
      ],
      "text/plain": [
       "  meow chika ha\n",
       "0    1     2  3\n",
       "1    4     5  6\n",
       "2    7     8  9"
      ]
     },
     "execution_count": 14,
     "metadata": {},
     "output_type": "execute_result"
    }
   ],
   "source": [
    "df"
   ]
  },
  {
   "cell_type": "code",
   "execution_count": 19,
   "metadata": {},
   "outputs": [
    {
     "name": "stdout",
     "output_type": "stream",
     "text": [
      "[[1. 2. 3. 4.]\n",
      " [4. 5. 6. 5.]\n",
      " [7. 8. 9. 6.]]\n"
     ]
    }
   ],
   "source": [
    "result = [4, 5, 6]\n",
    "array = np.zeros((daba.shape[0] - 1, daba.shape[1] + 1))\n",
    "array[:, :-1] = daba[1:]\n",
    "array[:, -1] = np.array(result)\n",
    "print(array)\n",
    "df = pd.DataFrame(array, columns=(list(daba[0])+[\"result\"]))"
   ]
  },
  {
   "cell_type": "code",
   "execution_count": 20,
   "metadata": {
    "scrolled": true
   },
   "outputs": [
    {
     "data": {
      "text/html": [
       "<div>\n",
       "<style scoped>\n",
       "    .dataframe tbody tr th:only-of-type {\n",
       "        vertical-align: middle;\n",
       "    }\n",
       "\n",
       "    .dataframe tbody tr th {\n",
       "        vertical-align: top;\n",
       "    }\n",
       "\n",
       "    .dataframe thead th {\n",
       "        text-align: right;\n",
       "    }\n",
       "</style>\n",
       "<table border=\"1\" class=\"dataframe\">\n",
       "  <thead>\n",
       "    <tr style=\"text-align: right;\">\n",
       "      <th></th>\n",
       "      <th>meow</th>\n",
       "      <th>chika</th>\n",
       "      <th>ha</th>\n",
       "      <th>result</th>\n",
       "    </tr>\n",
       "  </thead>\n",
       "  <tbody>\n",
       "    <tr>\n",
       "      <th>0</th>\n",
       "      <td>1.0</td>\n",
       "      <td>2.0</td>\n",
       "      <td>3.0</td>\n",
       "      <td>4.0</td>\n",
       "    </tr>\n",
       "    <tr>\n",
       "      <th>1</th>\n",
       "      <td>4.0</td>\n",
       "      <td>5.0</td>\n",
       "      <td>6.0</td>\n",
       "      <td>5.0</td>\n",
       "    </tr>\n",
       "    <tr>\n",
       "      <th>2</th>\n",
       "      <td>7.0</td>\n",
       "      <td>8.0</td>\n",
       "      <td>9.0</td>\n",
       "      <td>6.0</td>\n",
       "    </tr>\n",
       "  </tbody>\n",
       "</table>\n",
       "</div>"
      ],
      "text/plain": [
       "   meow  chika   ha  result\n",
       "0   1.0    2.0  3.0     4.0\n",
       "1   4.0    5.0  6.0     5.0\n",
       "2   7.0    8.0  9.0     6.0"
      ]
     },
     "execution_count": 20,
     "metadata": {},
     "output_type": "execute_result"
    }
   ],
   "source": [
    "df"
   ]
  },
  {
   "cell_type": "code",
   "execution_count": 22,
   "metadata": {},
   "outputs": [],
   "source": [
    "df.to_csv(\"check_saved.csv\", sep=',')"
   ]
  },
  {
   "cell_type": "code",
   "execution_count": 23,
   "metadata": {},
   "outputs": [
    {
     "data": {
      "text/plain": [
       "27"
      ]
     },
     "execution_count": 23,
     "metadata": {},
     "output_type": "execute_result"
    }
   ],
   "source": [
    "meow = [14754, 60544, 0.7150191036551836, 3, 4, 4, 0.5126934313008429, 0.7250580038852508, 0.0, 0.16666666666666666, 0.0, 0.0, 0.16666666666666666, 0.0, 0.0, 0.25, 0.125, 0.125, 0.0, 0.0, 0.0, 0.125, 0.0, 0.125, 0.125, 0.0, 0.0]\n",
    "len(meow)"
   ]
  },
  {
   "cell_type": "code",
   "execution_count": 24,
   "metadata": {},
   "outputs": [],
   "source": [
    "label = ['paragraph_id', 'question_id', 'sent_prob',\n",
    "         'len_l', 'len_a', 'len_r',\n",
    "         'cos_l', 'cos_a', 'cos_r',\n",
    "         'l_S', 'l_V', 'l_A', 'l_PR', 'l_ADV', 'l_CONJ',\n",
    "         'm_S', 'm_V', 'm_A', 'm_PR', 'm_ADV', 'm_CONJ',\n",
    "         'r_S', 'r_V', 'r_A', 'r_PR', 'r_ADV', 'r_CONJ',\n",
    "         'result',\n",
    "         ]"
   ]
  },
  {
   "cell_type": "code",
   "execution_count": 25,
   "metadata": {},
   "outputs": [
    {
     "data": {
      "text/plain": [
       "28"
      ]
     },
     "execution_count": 25,
     "metadata": {},
     "output_type": "execute_result"
    }
   ],
   "source": [
    "len(label)"
   ]
  },
  {
   "cell_type": "code",
   "execution_count": 26,
   "metadata": {},
   "outputs": [
    {
     "data": {
      "text/plain": [
       "28"
      ]
     },
     "execution_count": 26,
     "metadata": {},
     "output_type": "execute_result"
    }
   ],
   "source": [
    "len(set(label))"
   ]
  },
  {
   "cell_type": "code",
   "execution_count": 27,
   "metadata": {},
   "outputs": [],
   "source": [
    "question_features = pd.DataFrame(columns=['question_id', 'q_S', 'q_V', 'q_A', 'q_PR', 'q_ADV', 'q_CONJ',])"
   ]
  },
  {
   "cell_type": "code",
   "execution_count": 28,
   "metadata": {},
   "outputs": [
    {
     "data": {
      "text/html": [
       "<div>\n",
       "<style scoped>\n",
       "    .dataframe tbody tr th:only-of-type {\n",
       "        vertical-align: middle;\n",
       "    }\n",
       "\n",
       "    .dataframe tbody tr th {\n",
       "        vertical-align: top;\n",
       "    }\n",
       "\n",
       "    .dataframe thead th {\n",
       "        text-align: right;\n",
       "    }\n",
       "</style>\n",
       "<table border=\"1\" class=\"dataframe\">\n",
       "  <thead>\n",
       "    <tr style=\"text-align: right;\">\n",
       "      <th></th>\n",
       "      <th>question_id</th>\n",
       "      <th>q_S</th>\n",
       "      <th>q_V</th>\n",
       "      <th>q_A</th>\n",
       "      <th>q_PR</th>\n",
       "      <th>q_ADV</th>\n",
       "      <th>q_CONJ</th>\n",
       "    </tr>\n",
       "  </thead>\n",
       "  <tbody>\n",
       "  </tbody>\n",
       "</table>\n",
       "</div>"
      ],
      "text/plain": [
       "Empty DataFrame\n",
       "Columns: [question_id, q_S, q_V, q_A, q_PR, q_ADV, q_CONJ]\n",
       "Index: []"
      ]
     },
     "execution_count": 28,
     "metadata": {},
     "output_type": "execute_result"
    }
   ],
   "source": [
    "question_features"
   ]
  },
  {
   "cell_type": "code",
   "execution_count": null,
   "metadata": {},
   "outputs": [],
   "source": [
    "df = pd.merge(df2, df1, on=['document_id','item_id'])"
   ]
  }
 ],
 "metadata": {
  "kernelspec": {
   "display_name": "Python 3",
   "language": "python",
   "name": "python3"
  },
  "language_info": {
   "codemirror_mode": {
    "name": "ipython",
    "version": 3
   },
   "file_extension": ".py",
   "mimetype": "text/x-python",
   "name": "python",
   "nbconvert_exporter": "python",
   "pygments_lexer": "ipython3",
   "version": "3.7.3"
  }
 },
 "nbformat": 4,
 "nbformat_minor": 2
}
