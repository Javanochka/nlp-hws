{
 "cells": [
  {
   "cell_type": "code",
   "execution_count": 241,
   "metadata": {},
   "outputs": [],
   "source": [
    "train_texts = []\n",
    "\n",
    "\n",
    "with open(\"train_sentences.txt\", 'r') as f:\n",
    "    for line in f:\n",
    "        train_texts.append(line.strip('\\n'))"
   ]
  },
  {
   "cell_type": "code",
   "execution_count": 242,
   "metadata": {},
   "outputs": [],
   "source": [
    "train_nes = []\n",
    "\n",
    "with open(\"train_nes.txt\", 'r') as f:\n",
    "    for line in f:\n",
    "        train_nes.append(line.strip('\\n'))"
   ]
  },
  {
   "cell_type": "code",
   "execution_count": 243,
   "metadata": {},
   "outputs": [],
   "source": [
    "for i, line in enumerate(train_nes):\n",
    "    splitted = line.split()\n",
    "    train_nes[i] = []\n",
    "    for j in range(len(splitted) // 3):\n",
    "        train_nes[i].append((int(splitted[3 * j]), int(splitted[3 * j + 1]), splitted[3 * j + 2]))\n"
   ]
  },
  {
   "cell_type": "code",
   "execution_count": 244,
   "metadata": {},
   "outputs": [
    {
     "data": {
      "text/plain": [
       "[[(115, 7, 'PERSON'),\n",
       "  (123, 9, 'PERSON'),\n",
       "  (134, 8, 'PERSON'),\n",
       "  (143, 10, 'PERSON'),\n",
       "  (162, 9, 'PERSON')],\n",
       " [],\n",
       " [],\n",
       " [],\n",
       " [],\n",
       " [(0, 8, 'ORG'), (9, 13, 'ORG')],\n",
       " [(0, 9, 'PERSON'), (18, 8, 'PERSON'), (47, 9, 'ORG')],\n",
       " [(35, 9, 'ORG'), (45, 7, 'ORG'), (53, 8, 'PERSON'), (62, 9, 'PERSON')],\n",
       " [(126, 13, 'ORG'), (140, 2, 'ORG')],\n",
       " [(72, 14, 'ORG'), (89, 10, 'ORG')]]"
      ]
     },
     "execution_count": 244,
     "metadata": {},
     "output_type": "execute_result"
    }
   ],
   "source": [
    "train_nes[:10]"
   ]
  },
  {
   "cell_type": "code",
   "execution_count": 245,
   "metadata": {},
   "outputs": [],
   "source": [
    "people = set()\n",
    "orgs = set()"
   ]
  },
  {
   "cell_type": "code",
   "execution_count": 246,
   "metadata": {},
   "outputs": [],
   "source": [
    "import glob\n",
    "\n",
    "for filename in glob.glob('collection3/Collection3/*.ann'):\n",
    "    with open(filename, 'r') as f:\n",
    "        for line in f:\n",
    "            _, tag, name = line.strip().split('\\t')\n",
    "            tag = tag[:3]\n",
    "            if tag == 'ORG':\n",
    "                orgs.add(name)\n",
    "            if tag == 'PER':\n",
    "                people.add(name)"
   ]
  },
  {
   "cell_type": "code",
   "execution_count": 247,
   "metadata": {},
   "outputs": [
    {
     "name": "stdout",
     "output_type": "stream",
     "text": [
      "2868 5540\n"
     ]
    }
   ],
   "source": [
    "print(len(orgs), len(people))"
   ]
  },
  {
   "cell_type": "code",
   "execution_count": 455,
   "metadata": {},
   "outputs": [
    {
     "name": "stdout",
     "output_type": "stream",
     "text": [
      "([('выступление', 0, 11), ('в', 12, 1), ('ресторан', 14, 10), ('и', 25, 1), ('кабак', 27, 7), ('между', 37, 5), ('горячий', 43, 7), ('и', 51, 1), ('десерт', 53, 8), ('в', 63, 1), ('мюзик-холл', 65, 12), ('и', 78, 1), ('фешенебельный', 80, 13), ('отель', 94, 6), ('для', 103, 3), ('король', 107, 7), ('густав', 115, 7), ('шведский', 123, 9), ('альфонса', 134, 8), ('испанский', 143, 10), ('принц', 155, 6), ('уэльский', 162, 9), ('для', 173, 3), ('вандербильт', 177, 13), ('и', 191, 1), ('ротшильд', 193, 10)], [('густав', 115, 7), ('альфонса', 134, 8), ('ротшильд', 193, 10)])\n"
     ]
    }
   ],
   "source": [
    "from pymystem3 import Mystem\n",
    "\n",
    "m = Mystem()\n",
    "text = train_texts[0]\n",
    "\n",
    "def lemmatize_with_pos(text):\n",
    "    result = []\n",
    "    pos = 0\n",
    "    lemmatized = m.analyze(text.strip())\n",
    "    names = []\n",
    "    for dic in lemmatized:\n",
    "        if 'analysis' in dic:\n",
    "            if not dic['analysis']:\n",
    "                result.append((dic['text'], pos, len(dic['text'])))\n",
    "            else:\n",
    "                try:\n",
    "                    tp = dic['analysis'][0]['gr'][2:5]\n",
    "                    if tp == 'имя' or tp == 'фам':\n",
    "                        names.append((dic['analysis'][0]['lex'], pos, len(dic['text'])))\n",
    "                except Exception:\n",
    "                    print(\"meow\")\n",
    "                result.append((dic['analysis'][0]['lex'], pos, len(dic['text'])))\n",
    "        pos += len(dic['text'])\n",
    "    return result, names\n",
    "    \n",
    "print(lemmatize_with_pos(text))\n"
   ]
  },
  {
   "cell_type": "code",
   "execution_count": 249,
   "metadata": {},
   "outputs": [
    {
     "data": {
      "text/plain": [
       "'Уэльского'"
      ]
     },
     "execution_count": 249,
     "metadata": {},
     "output_type": "execute_result"
    }
   ],
   "source": [
    "text[162:(162+9)]"
   ]
  },
  {
   "cell_type": "code",
   "execution_count": 250,
   "metadata": {},
   "outputs": [],
   "source": [
    "lem_people = []\n",
    "for per in people:\n",
    "    lem_people.append(lemmatize_with_pos(per))"
   ]
  },
  {
   "cell_type": "code",
   "execution_count": 251,
   "metadata": {},
   "outputs": [],
   "source": [
    "lem_orgs = []\n",
    "for org in orgs:\n",
    "    leorg = lemmatize_with_pos(org)\n",
    "    if leorg == []:\n",
    "        lem_orgs.append((org, 0, len(org)))\n",
    "    else:\n",
    "        lem_orgs.append(lemmatize_with_pos(org))"
   ]
  },
  {
   "cell_type": "code",
   "execution_count": 49,
   "metadata": {},
   "outputs": [
    {
     "name": "stdout",
     "output_type": "stream",
     "text": [
      "[('в', 0, 1), ('путин', 2, 5)]\n",
      "[('юрий', 0, 4)]\n",
      "[('навальный', 0, 9)]\n",
      "[('навальный', 0, 9)]\n",
      "[('си', 0, 2), ('цзиньпина', 3, 8)]\n",
      "[('лукашенко', 0, 9)]\n",
      "[('токарев', 0, 7)]\n",
      "[('виктор', 0, 6)]\n",
      "[('морозов', 0, 7)]\n",
      "[('меркель', 0, 7)]\n",
      "[('руперт', 0, 6), ('мердок', 7, 6)]\n"
     ]
    }
   ],
   "source": [
    "for text in train_texts[:1000]:\n",
    "    l_text = lemmatize_with_pos(text)\n",
    "    for i in range(len(l_text)):\n",
    "        for per in lem_people:\n",
    "            flag = True\n",
    "            for j in range(len(per)):\n",
    "                if l_text[i + j] != per[j]:\n",
    "                    flag = False\n",
    "                    break\n",
    "            if flag:\n",
    "                print(per)"
   ]
  },
  {
   "cell_type": "code",
   "execution_count": 48,
   "metadata": {},
   "outputs": [
    {
     "name": "stdout",
     "output_type": "stream",
     "text": [
      "[('Facebook', 0, 8)]\n",
      "[('правительство', 0, 13)]\n"
     ]
    }
   ],
   "source": [
    "for text in train_texts[:100]:\n",
    "    l_text = lemmatize_with_pos(text)\n",
    "    for i in range(len(l_text)):\n",
    "        for org in lem_orgs:\n",
    "            flag = True\n",
    "            for j in range(len(org)):\n",
    "                if l_text[i + j] != org[j]:\n",
    "                    flag = False\n",
    "                    break\n",
    "            if flag:\n",
    "                print(org)"
   ]
  },
  {
   "cell_type": "code",
   "execution_count": 252,
   "metadata": {},
   "outputs": [],
   "source": [
    "for i, nes in enumerate(train_nes):\n",
    "    j = 0\n",
    "    tt = lemmatize_with_pos(train_texts[i])\n",
    "    dic = {t[1]:t[0] for t in tt}\n",
    "    while j < len(nes):\n",
    "        if nes[j][0] not in dic:\n",
    "            break\n",
    "        tag = [(dic[nes[j][0]],)]\n",
    "        while j + 1 < len(nes) and (nes[j][0] + nes[j][1] + 1) == nes[j + 1][0] and nes[j][2] == nes[j + 1][2]:\n",
    "            j += 1\n",
    "            if nes[j][0] not in dic:\n",
    "                break\n",
    "            tag.append((dic[nes[j][0]],))\n",
    "        if nes[j][2] == 'ORG':\n",
    "            lem_orgs.append(tag)\n",
    "        elif nes[j][2] == 'PERSON':\n",
    "            lem_people.append(tag)\n",
    "        j += 1"
   ]
  },
  {
   "cell_type": "code",
   "execution_count": 253,
   "metadata": {},
   "outputs": [
    {
     "name": "stdout",
     "output_type": "stream",
     "text": [
      "[[('банк',)], [('ростелеком',)], [('государство',)], [('агентство',), ('по',), ('развитие',), ('инновационный',), ('предпринимательство',)], [('руководство',), ('канал',)], [('медиаресурс',)], [('World',), ('Fashion',), ('Channel',)], [('канал',)], [('ведомость',)], [('газпром',), ('межрегионгаз',), ('санкт-петербург',)], [('ИА',), ('Regnum',)], [('кпсс',)], [('ведомость',)], [('роснефть',)], [('BP',)], [('роснефть',)], [('роснефтегаз',)], [('BP',)], [('роснефть',)], [('российский',), ('государственный',), ('нефтяной',), ('компания',)], [('в',), ('контакт',)], [('Caramba',), ('TV',)], [('стс',), ('медиа',)], [('аль-каида',)], [('Vestas',)], [('Vestas',)], [('оон',)], [('оон',)], [('Microsoft',)], [('интернет',), ('Yahoo',)], [('роснефть',)], [('Bank',), ('of',), ('America',), ('Merrill',), ('Lynch',)], [('Bank',), ('of',), ('America',)], [('Citigroup',), ('Global',), ('Markets',), ('Ltd',)], [('газпром-медиа',)], [('интернет',)], [('ICE',)], [('NASDAQ',)], [('NASDAQ',)], [('ICE',)], [('государство',)], [('агенство',), ('France',)], [('совет',), ('директор',), ('госоператор',)], [('американский',), ('власть',)], [('минобороны',)], [('круглосуточный',), ('телеканал',), ('World',), ('Fashion',), ('Channel',)], [('центр',), ('по',), ('разработка',), ('и',), ('коммерциализация',), ('новый',), ('технология',)], [('министерство',)], [('РБК',)], [('NASA',)], [('газета',)], [('издание',)], [('ТНК',)], [('роснефть',)], [('центр',)], [('Kraftwerk',)], [('телевизор',)], [('Depeche',), ('Mode',)], [('The',), ('Smiths',)], [('лента',)], [('РБК',)], [('голос',), ('америка',)], [('ICE',)], [('компания',), ('True',), ('Companion',)], [('U',)], [('роскомнадзор',)], [('экспертный',), ('комиссия',)], [('комиссия',)], [('Bloomberg',)], [('управление',), ('по',), ('эксплуатация',), ('здание',), ('федеральный',), ('собрание',), ('рф',)], [('госдума',)], [('нижний',), ('палата',), ('парламент',)], [('власть',), ('таиланд',)], [('госдума',)], [('сборная',), ('россия',)], [('народный',), ('партия',)], [('таллинский',), ('администрация',)], [('кабмин',)], [('руководство',), ('вуз',)], [('университет',), ('лос-анджелес',)], [('G',)], [('РБК',)], [('фонд',)], [('династия',)], [('инновационный',), ('центр',)], [('сколково',)], [('совет',), ('ес',)], [('евросоюз',)], [('нато',)], [('Caramba',), ('TV',)], [('стс',), ('медиа',)], [('известие',)], [('вконтакте',)], [('руководство',), ('крым',)], [('Facebook',)], [('американский',), ('бюро',), ('по',), ('сельский',), ('хозяйство',)], [('интернет',)], [('сибур',)], [('театр',), ('нация',)], [('палата',), ('представитель',)]]\n"
     ]
    }
   ],
   "source": [
    "print(lem_orgs[-100:])"
   ]
  },
  {
   "cell_type": "code",
   "execution_count": 254,
   "metadata": {},
   "outputs": [
    {
     "name": "stdout",
     "output_type": "stream",
     "text": [
      "[[('пастернак',)], [('грегори',), ('чамитофф',)], [('Gregory',), ('Chamitoff',)], [('гаррет',), ('рейсман',)], [('Garrett',), ('Reisman',)], [('виктор',)], [('вертинский',)], [('владимир',), ('путин',)], [('меркель',)], [('чандлер',)], [('мурак',)], [('реджеп',), ('эрдоган',)], [('андрей',), ('терновский',)], [('санников',)], [('тимошенко',)], [('ющенко',)], [('ильф',)], [('петров',)], [('мердок',)], [('бадри',), ('патаркацишвили',)], [('егор',), ('свиридов',)], [('виктор',), ('шендерович',)], [('роман',), ('коноплев',)], [('михаил',), ('мишустин',)], [('форсайт',)], [('роман',), ('коноплев',)], [('нарышкин',)], [('джон',), ('бенер',)], [('михаил',), ('федотов',)], [('александр',), ('хлопонин',)], [('равиль',), ('гайнутдин',)], [('сансерн',), ('каевкамнерд',)], [('петр',), ('порошенко',)], [('артур',), ('чилингаров',)], [('джеймс',), ('миллер',)], [('хоровитц',)], [('ольга',), ('фрейденберг',)], [('игорь',), ('северянин',)], [('иза',), ('кремер',)], [('пьеро',), ('вертинский',)], [('путин',)], [('дмитрий',), ('медведев',)], [('перепелкин',)], [('минченко',)], [('монте-кристо',)], [('игорь',), ('сечин',)], [('калоев',)], [('дурова',)], [('вертинский',)], [('марк',)], [('александр',), ('михайлович',)], [('врангель',)], [('вертинский',)], [('саманта',), ('пауэр',)], [('песок',)], [('александр',), ('стубб',)], [('екатерина',), ('павлова',)], [('оскар',), ('руис',)], [('бхутто',)], [('иван',), ('родионов',)], [('хван',)], [('бут',)], [('клинсман',)], [('вормут',)], [('владимир',), ('путин',)], [('майкл',), ('гриффин',)], [('петр',), ('порошенко',)], [('грей',), ('ф',)], [('грин',)], [('халлдор',), ('олафур',), ('лахнесс',)], [('вертинский',)], [('георгий',), ('иванов',)], [('чавес',)], [('вадим',), ('ампелонский',)], [('владимир',), ('путин',)], [('шкрель',)], [('лонгин',)], [('каллен',)], [('меркель',)], [('иса',), ('ямадаев',)], [('джоанна',), ('стингрей',)], [('саркозить',)], [('александр',), ('колпаков',)], [('хорхе',), ('ларрионд',)], [('дмитрий',), ('зимин',)], [('вуянович',)], [('венедиктов',)], [('льюис',), ('кэррол',)], [('нина',), ('демурова',)], [('марк',), ('твен',)], [('максим',), ('чертаново',)], [('виктор',), ('курильский',)], [('светлана',), ('бондаренко',)], [('пайпс',)], [('илья',), ('перекопский',)], [('моралес',)], [('чавес',)], [('владимир',), ('путин',)], [('евгений',), ('миронов',)], [('в',), ('путин',)]]\n"
     ]
    }
   ],
   "source": [
    "print(lem_people[-100:])"
   ]
  },
  {
   "cell_type": "code",
   "execution_count": 262,
   "metadata": {},
   "outputs": [],
   "source": [
    "for org in lem_orgs:\n",
    "    if len(org) == 1 and len(org[0][0]) <= 2:\n",
    "        if org[0][0] in ['в', 'и', 'с', 'по', 'он', 'на', 'за', 'п', 'т', 'Ъ']:\n",
    "            lem_orgs.remove(org)\n"
   ]
  },
  {
   "cell_type": "code",
   "execution_count": 263,
   "metadata": {},
   "outputs": [
    {
     "name": "stdout",
     "output_type": "stream",
     "text": [
      "[('ГД', 0, 2)]\n",
      "[('ЕК', 0, 2)]\n",
      "[('цб', 0, 2)]\n",
      "[('AP', 0, 2)]\n",
      "[('НП', 0, 2)]\n",
      "[('GM', 0, 2)]\n",
      "[('ИА', 0, 2)]\n",
      "[('кс', 0, 2)]\n",
      "[('су', 0, 2)]\n",
      "[('BP', 0, 2)]\n",
      "[('ск', 0, 2)]\n",
      "[('GE', 0, 2)]\n",
      "[('ГУ', 0, 2)]\n",
      "[('ер', 0, 2)]\n",
      "[('ер', 1, 2)]\n",
      "[('РД', 0, 2)]\n",
      "[('ко', 0, 2)]\n",
      "[('мк', 0, 2)]\n",
      "[('цк', 0, 2)]\n",
      "[('сф', 0, 2)]\n",
      "[('вр', 0, 2)]\n",
      "[('ГУ', 0, 2)]\n",
      "[('сп', 0, 2)]\n",
      "[('СР', 0, 2)]\n",
      "[('кп', 0, 2)]\n",
      "[('се', 0, 2)]\n",
      "[('ЖЖ', 0, 2)]\n",
      "[('ан', 0, 2)]\n",
      "[('ЦС', 0, 2)]\n",
      "[('оп', 0, 2)]\n",
      "[('вс', 0, 2)]\n",
      "[('ГП', 1, 2)]\n",
      "[('ес',)]\n",
      "[('BP',)]\n",
      "[('ми',)]\n",
      "[('ес',)]\n",
      "[('BP',)]\n",
      "[('S',)]\n",
      "[('RU',)]\n",
      "[('ес',)]\n",
      "[('вр',)]\n",
      "[('вр',)]\n",
      "[('BP',)]\n",
      "[('S',)]\n",
      "[('вр',)]\n",
      "[('BP',)]\n",
      "[('ес',)]\n",
      "[('вс',)]\n",
      "[('ми',)]\n",
      "[('ес',)]\n",
      "[('НК',)]\n",
      "[('BP',)]\n",
      "[('HP',)]\n",
      "[('ес',)]\n",
      "[('вр',)]\n",
      "[('ю',)]\n",
      "[('ес',)]\n",
      "[('вс',)]\n",
      "[('ес',)]\n",
      "[('BP',)]\n",
      "[('BP',)]\n",
      "[('U',)]\n",
      "[('G',)]\n"
     ]
    }
   ],
   "source": [
    "for org in lem_orgs:\n",
    "    if len(org) == 1 and len(org[0][0]) <= 2:\n",
    "        print(org)\n"
   ]
  },
  {
   "cell_type": "code",
   "execution_count": 259,
   "metadata": {},
   "outputs": [],
   "source": [
    "for per in lem_people:\n",
    "    if len(per) == 1 and len(per[0][0]) <= 2:\n",
    "        if per[0][0] in ['в', 'и', 'с', 'по', 'он', 'на', 'за', 'к', 'н', 'м', 'ли', 'р', 'г']:\n",
    "            lem_people.remove(per)"
   ]
  },
  {
   "cell_type": "code",
   "execution_count": 260,
   "metadata": {},
   "outputs": [
    {
     "name": "stdout",
     "output_type": "stream",
     "text": [
      "[('БГ',)]\n"
     ]
    }
   ],
   "source": [
    "for per in lem_people:\n",
    "    if len(per) == 1 and len(per[0][0]) <= 2:\n",
    "        print(per)"
   ]
  },
  {
   "cell_type": "code",
   "execution_count": 456,
   "metadata": {},
   "outputs": [],
   "source": [
    "def get_tagged(text):\n",
    "    answer = []\n",
    "    l_text, names = lemmatize_with_pos(text)\n",
    "    i = 0\n",
    "    while i < len(l_text):\n",
    "        found = False\n",
    "        for per in lem_people:\n",
    "            flag = True\n",
    "            for j in range(len(per)):\n",
    "                if (i + j) >= len(l_text) or l_text[i + j][0] != per[j][0]:\n",
    "                    flag = False\n",
    "                    break\n",
    "            if flag:\n",
    "                found = True\n",
    "                answer.append([(l_text[i + j][1], l_text[i + j][2], 'PERSON') for j in range(len(per))])\n",
    "                i += len(per) - 1\n",
    "                break\n",
    "        if found:\n",
    "            i += 1\n",
    "            continue\n",
    "        found = False\n",
    "        for org in lem_orgs:\n",
    "            flag = True\n",
    "            for j in range(len(org)):\n",
    "                if (i + j) >= len(l_text) or l_text[i + j][0] != org[j][0]:\n",
    "                    flag = False\n",
    "                    break\n",
    "            if flag:\n",
    "                answer.append([(l_text[i + j][1], l_text[i + j][2], 'ORG') for j in range(len(org))])\n",
    "                i += len(org) - 1\n",
    "                found = True\n",
    "                break\n",
    "        if found:\n",
    "            i += 1\n",
    "            continue\n",
    "        if (text[l_text[i][1]:(l_text[i][1] + l_text[i][2])].isupper() and l_text[i][2] > 1) or (ord('a') <= ord(l_text[i][0][0].lower()) <= ord('z')):\n",
    "            answer.append([(l_text[i][1], l_text[i][2], 'ORG')])\n",
    "        i += 1\n",
    "    for n in names:\n",
    "        answer.append([(n[1], n[2], 'PERSON')])\n",
    "    return answer\n",
    "                "
   ]
  },
  {
   "cell_type": "code",
   "execution_count": 457,
   "metadata": {},
   "outputs": [
    {
     "data": {
      "text/plain": [
       "[[(115, 7, 'PERSON'), (123, 9, 'PERSON')],\n",
       " [(134, 8, 'PERSON'), (143, 10, 'PERSON')],\n",
       " [(162, 9, 'PERSON')],\n",
       " [(115, 7, 'PERSON')],\n",
       " [(134, 8, 'PERSON')],\n",
       " [(193, 10, 'PERSON')]]"
      ]
     },
     "execution_count": 457,
     "metadata": {},
     "output_type": "execute_result"
    }
   ],
   "source": [
    "get_tagged(train_texts[0])"
   ]
  },
  {
   "cell_type": "code",
   "execution_count": 458,
   "metadata": {},
   "outputs": [],
   "source": [
    "def answer_to_string(answer):\n",
    "    s = \"\"\n",
    "    for t in answer:\n",
    "        for el in t:\n",
    "            s += f'{str(el[0])} {str(el[1])} {el[2]} '\n",
    "    s += \"EOL\"\n",
    "    return s\n",
    "    "
   ]
  },
  {
   "cell_type": "code",
   "execution_count": 459,
   "metadata": {},
   "outputs": [
    {
     "data": {
      "text/plain": [
       "'115 7 PERSON 123 9 PERSON 134 8 PERSON 143 10 PERSON 162 9 PERSON 115 7 PERSON 134 8 PERSON 193 10 PERSON EOL'"
      ]
     },
     "execution_count": 459,
     "metadata": {},
     "output_type": "execute_result"
    }
   ],
   "source": [
    "answer_to_string(get_tagged(train_texts[0]))"
   ]
  },
  {
   "cell_type": "code",
   "execution_count": 444,
   "metadata": {},
   "outputs": [
    {
     "name": "stdout",
     "output_type": "stream",
     "text": [
      "Выступления в ресторанах и кабаках — между горячим и десертом; в мюзик-холлах и фешенебельных отелях — для королей Густава Шведского, Альфонса Испанского, принца Уэльского, для Вандербильтов и Ротшильдов.\n"
     ]
    }
   ],
   "source": [
    "print(train_texts[0])"
   ]
  },
  {
   "cell_type": "code",
   "execution_count": 463,
   "metadata": {},
   "outputs": [],
   "source": [
    "import traceback\n",
    "with open('input_17.txt', 'r') as fin, open('output.txt', 'w') as fout:\n",
    "    for line in fin:\n",
    "        try:\n",
    "            print(answer_to_string(get_tagged(line)), file=fout, flush=True)\n",
    "        except Exception as e:\n",
    "            print('EOL', file=fout)\n",
    "            print(\"meow\", e)\n",
    "            traceback.print_exc()\n",
    "            print(line)"
   ]
  },
  {
   "cell_type": "code",
   "execution_count": 453,
   "metadata": {
    "scrolled": true
   },
   "outputs": [
    {
     "name": "stdout",
     "output_type": "stream",
     "text": [
      "[('клуб',)]\n"
     ]
    }
   ],
   "source": [
    "for org in lem_orgs:\n",
    "    if len(org) == 1 and org[0][0][:4] == 'клуб':\n",
    "        print(org)"
   ]
  },
  {
   "cell_type": "code",
   "execution_count": 440,
   "metadata": {},
   "outputs": [],
   "source": [
    "lem_orgs.remove([('порт', 0, 5)])"
   ]
  },
  {
   "cell_type": "code",
   "execution_count": 355,
   "metadata": {},
   "outputs": [
    {
     "data": {
      "text/plain": [
       "4252"
      ]
     },
     "execution_count": 355,
     "metadata": {},
     "output_type": "execute_result"
    }
   ],
   "source": [
    "len(lem_orgs)"
   ]
  },
  {
   "cell_type": "code",
   "execution_count": null,
   "metadata": {},
   "outputs": [],
   "source": []
  }
 ],
 "metadata": {
  "kernelspec": {
   "display_name": "Python 3",
   "language": "python",
   "name": "python3"
  },
  "language_info": {
   "codemirror_mode": {
    "name": "ipython",
    "version": 3
   },
   "file_extension": ".py",
   "mimetype": "text/x-python",
   "name": "python",
   "nbconvert_exporter": "python",
   "pygments_lexer": "ipython3",
   "version": "3.7.3"
  }
 },
 "nbformat": 4,
 "nbformat_minor": 2
}
