{
 "cells": [
  {
   "cell_type": "code",
   "execution_count": null,
   "metadata": {},
   "outputs": [],
   "source": [
    "import pygtrie\n",
    "fdict = open(\"dict.opcorpora.txt\", 'r')\n",
    "\n",
    "resdict = {}\n",
    "num_by_word = {}\n",
    "cur = -1\n",
    "\n",
    "suff = pygtrie.CharTrie()\n",
    "\n",
    "def add_inv(word, i):\n",
    "    for i in range(len(word) + 1):\n",
    "        if word[:i] not in suff:\n",
    "            suff[word[:i]] = set()\n",
    "        suff[word[:i]].add(i)\n",
    "\n",
    "for line in fdict:\n",
    "    if line.strip() == \"\":\n",
    "        continue\n",
    "    words = line.split('\\t')\n",
    "    if (len(words)) == 1:\n",
    "        cur = int(words[0].strip())\n",
    "        continue\n",
    "    if (len(words)) == 0:\n",
    "        continue\n",
    "    word, info = words\n",
    "    if \"Abbr\" in info.split(',')[0].strip():\n",
    "        continue\n",
    "    if cur not in resdict:\n",
    "        resdict[cur] = (info.split(',')[0].strip(), [])\n",
    "    word = word.lower().replace('ё', 'е')\n",
    "    invword = word[-1::-1]\n",
    "    add_inv(invword, cur)\n",
    "    resdict[cur][1].append(word)\n",
    "    if word not in num_by_word:\n",
    "        num_by_word[word] = set()\n",
    "    num_by_word[word].add(cur)"
   ]
  },
  {
   "cell_type": "code",
   "execution_count": 2,
   "metadata": {},
   "outputs": [],
   "source": [
    "f = open(\"dict.opcorpora.xml\", \"r\")\n",
    "\n",
    "types = []\n",
    "links = []\n",
    "for line in f:\n",
    "    if line.strip().startswith(\"<type\"):\n",
    "        types.append(line)\n",
    "    if line.strip().startswith(\"<link\"):\n",
    "        links.append(line)\n"
   ]
  },
  {
   "cell_type": "code",
   "execution_count": 3,
   "metadata": {},
   "outputs": [
    {
     "data": {
      "text/plain": [
       "['<type id=\"1\">ADJF-ADJS</type>\\n',\n",
       " '<type id=\"2\">ADJF-COMP</type>\\n',\n",
       " '<type id=\"3\">INFN-VERB</type>\\n',\n",
       " '<type id=\"4\">INFN-PRTF</type>\\n',\n",
       " '<type id=\"5\">INFN-GRND</type>\\n',\n",
       " '<type id=\"6\">PRTF-PRTS</type>\\n',\n",
       " '<type id=\"7\">NAME-PATR</type>\\n',\n",
       " '<type id=\"8\">PATR_MASC-PATR_FEMN</type>\\n',\n",
       " '<type id=\"9\">SURN_MASC-SURN_FEMN</type>\\n',\n",
       " '<type id=\"10\">SURN_MASC-SURN_PLUR</type>\\n',\n",
       " '<type id=\"11\">PERF-IMPF</type>\\n',\n",
       " '<type id=\"12\">ADJF-SUPR_ejsh</type>\\n',\n",
       " '<type id=\"13\">PATR_MASC_FORM-PATR_MASC_INFR</type>\\n',\n",
       " '<type id=\"14\">PATR_FEMN_FORM-PATR_FEMN_INFR</type>\\n',\n",
       " '<type id=\"15\">ADJF_eish-SUPR_nai_eish</type>\\n',\n",
       " '<type id=\"16\">ADJF-SUPR_ajsh</type>\\n',\n",
       " '<type id=\"17\">ADJF_aish-SUPR_nai_aish</type>\\n',\n",
       " '<type id=\"18\">ADJF-SUPR_suppl</type>\\n',\n",
       " '<type id=\"19\">ADJF-SUPR_nai</type>\\n',\n",
       " '<type id=\"20\">ADJF-SUPR_slng</type>\\n',\n",
       " '<type id=\"21\">FULL-CONTRACTED</type>\\n',\n",
       " '<type id=\"22\">NORM-ORPHOVAR</type>\\n',\n",
       " '<type id=\"23\">CARDINAL-ORDINAL</type>\\n',\n",
       " '<type id=\"24\">SBST_MASC-SBST_FEMN</type>\\n',\n",
       " '<type id=\"25\">SBST_MASC-SBST_PLUR</type>\\n',\n",
       " '<type id=\"26\">ADVB-COMP</type>\\n',\n",
       " '<type id=\"27\">ADJF_TEXT-ADJF_NUMBER</type>\\n']"
      ]
     },
     "execution_count": 3,
     "metadata": {},
     "output_type": "execute_result"
    }
   ],
   "source": [
    "types"
   ]
  },
  {
   "cell_type": "code",
   "execution_count": 4,
   "metadata": {},
   "outputs": [
    {
     "data": {
      "text/plain": [
       "['<link_types>\\n',\n",
       " '<links>\\n',\n",
       " '    <link id=\"1\" from=\"5\" to=\"6\" type=\"1\"/>\\n',\n",
       " '    <link id=\"2\" from=\"5\" to=\"7\" type=\"2\"/>\\n',\n",
       " '    <link id=\"3\" from=\"9\" to=\"8\" type=\"3\"/>\\n',\n",
       " '    <link id=\"4\" from=\"9\" to=\"10\" type=\"4\"/>\\n',\n",
       " '    <link id=\"5\" from=\"9\" to=\"12\" type=\"5\"/>\\n',\n",
       " '    <link id=\"6\" from=\"10\" to=\"11\" type=\"6\"/>\\n',\n",
       " '    <link id=\"7\" from=\"14\" to=\"13\" type=\"3\"/>\\n',\n",
       " '    <link id=\"8\" from=\"14\" to=\"15\" type=\"4\"/>\\n']"
      ]
     },
     "execution_count": 4,
     "metadata": {},
     "output_type": "execute_result"
    }
   ],
   "source": [
    "links[:10]"
   ]
  },
  {
   "cell_type": "code",
   "execution_count": 5,
   "metadata": {},
   "outputs": [],
   "source": [
    "links = links[2:]"
   ]
  },
  {
   "cell_type": "code",
   "execution_count": 6,
   "metadata": {},
   "outputs": [],
   "source": [
    "go_to = {}\n",
    "for link in links:\n",
    "    fr, to = link.strip().split()[2:4]\n",
    "    fr = int(fr[6:-1])\n",
    "    to = int(to[4:-1])\n",
    "    if to not in go_to:\n",
    "        go_to[to] = []\n",
    "    go_to[to].append(fr)"
   ]
  },
  {
   "cell_type": "code",
   "execution_count": 7,
   "metadata": {},
   "outputs": [
    {
     "data": {
      "text/plain": [
       "[9]"
      ]
     },
     "execution_count": 7,
     "metadata": {},
     "output_type": "execute_result"
    }
   ],
   "source": [
    "go_to[10]\n"
   ]
  },
  {
   "cell_type": "code",
   "execution_count": 24,
   "metadata": {},
   "outputs": [],
   "source": [
    "import random\n",
    "\n",
    "def get_all_reachables(num, was):\n",
    "    if num in was:\n",
    "        return was\n",
    "    was.add(num)\n",
    "    if num not in go_to:\n",
    "        return was\n",
    "    for i in go_to[num]:\n",
    "        found = get_all_reachables(i, was)\n",
    "        was = was.union(found)\n",
    "    return was\n",
    "def get_with(l, w):\n",
    "    all = []\n",
    "    for p in l:\n",
    "        if resdict[p][0].startswith(w):\n",
    "            all.append(p)\n",
    "    return -1 if all == [] else random.choice(all)"
   ]
  },
  {
   "cell_type": "code",
   "execution_count": 28,
   "metadata": {},
   "outputs": [],
   "source": [
    "def find_right_num(word):\n",
    "    ans = set()\n",
    "    for num in num_by_word[word]:\n",
    "        ans = ans.union(get_all_reachables(num, set()))\n",
    "    ans = list(ans)\n",
    "    a = get_with(ans, \"ADJF\")\n",
    "    if a != -1:\n",
    "        return a\n",
    "    a = get_with(ans, \"NOUN\")\n",
    "    if a != -1:\n",
    "        return a\n",
    "    a = get_with(ans, \"INFN\")\n",
    "    if a != -1:\n",
    "        return a\n",
    "    a = get_with(ans, \"CONJ\")\n",
    "    if a != -1:\n",
    "        return a\n",
    "    a = get_with(ans, \"INTJ\")\n",
    "    if a != -1:\n",
    "        return a\n",
    "    a = get_with(ans, \"PREP\")\n",
    "    if a != -1:\n",
    "        return a\n",
    "    return ans[0]"
   ]
  },
  {
   "cell_type": "code",
   "execution_count": 32,
   "metadata": {},
   "outputs": [],
   "source": [
    "def get_naming(w):\n",
    "    if w.startswith(\"NOUN\"):\n",
    "        return \"S\"\n",
    "    if w.startswith(\"INFN\"):\n",
    "        return \"V\"\n",
    "    if w.startswith(\"ADJF\"):\n",
    "        return \"A\"\n",
    "    if w.startswith(\"PREP\"):\n",
    "        return \"PR\"\n",
    "    if w.startswith(\"CONJ\"):\n",
    "        return \"CONJ\"\n",
    "    return \"ADV\"\n",
    "    \n",
    "pop_adv = ['уже', 'же', 'еще']\n",
    "pop_conj = [\"и\", \"а\", \"но\", \"да\", \"если\", \"что\", \"когда\"]\n",
    "pop_pr = [\"за\", \"для\", \"в\", \"о\", \"к\", \"из\", \"от\", \"по\", \"под\", \"с\", \"об\", \"обо\", \"до\", \"над\", \"на\", \"ко\", \"к\", \"без\", \"из\", \"у\"]\n",
    "\n",
    "def make_sentence(sent):\n",
    "    res = []\n",
    "    for word in sent:\n",
    "        loword = word.lower().replace('ё', 'е')\n",
    "        if loword in pop_adv:\n",
    "            res.append(word + \"{\" + loword + \"=ADV}\")\n",
    "        elif loword in pop_conj:\n",
    "            res.append(word + \"{\" + loword + \"=CONJ}\")\n",
    "        elif loword in pop_pr:\n",
    "            res.append(word + \"{\" + loword + \"=PR}\")\n",
    "        elif loword in num_by_word:\n",
    "            num = find_right_num(loword)\n",
    "            res.append(word + \"{\"+resdict[num][1][0] + \"=\" + get_naming(resdict[num][0]) + \"}\")\n",
    "        else:\n",
    "            res.append(word + \"{\"+word.lower() + \"=NI}\")\n",
    "    return res"
   ]
  },
  {
   "cell_type": "code",
   "execution_count": 33,
   "metadata": {},
   "outputs": [],
   "source": [
    "fin = open(\"test.txt\", 'r')\n",
    "fout = open(\"output.txt\", 'w')\n",
    "for line in fin:\n",
    "    words = line.replace('.', '').replace(',', '').replace('?', '').replace('!', '').strip().split()\n",
    "    print(\" \".join(make_sentence(words)), file=fout)\n",
    "fout.close()"
   ]
  },
  {
   "cell_type": "code",
   "execution_count": 123,
   "metadata": {},
   "outputs": [
    {
     "data": {
      "text/plain": [
       "{127460, 389619, 390191, 390192}"
      ]
     },
     "execution_count": 123,
     "metadata": {},
     "output_type": "execute_result"
    }
   ],
   "source": [
    "num_by_word[\"к\"]"
   ]
  },
  {
   "cell_type": "code",
   "execution_count": 124,
   "metadata": {},
   "outputs": [
    {
     "name": "stdout",
     "output_type": "stream",
     "text": [
      "('PREP', ['к', 'ко']) ('CONJ', ['как', 'како']) ('NOUN', ['к', 'к', 'к', 'к', 'к', 'к', 'к', 'к', 'к', 'к', 'к', 'к']) ('NOUN', ['к', 'к', 'к', 'к', 'к', 'к']) ('NOUN', ['к', 'к', 'к', 'к', 'к', 'к'])\n"
     ]
    }
   ],
   "source": [
    "print(resdict[127460], resdict[128190], resdict[389619], resdict[390191], resdict[390192])"
   ]
  },
  {
   "cell_type": "code",
   "execution_count": 127,
   "metadata": {},
   "outputs": [
    {
     "name": "stdout",
     "output_type": "stream",
     "text": [
      "['Эти{этот=A}', 'типы{тип=S}', 'стали{стать=V}', 'есть{есть=ADV}', 'на{на=ADV}', 'складе{склад=S}']\n"
     ]
    }
   ],
   "source": [
    "print(make_sentence([\"Эти\", \"типы\", \"стали\", \"есть\", \"на\", \"складе\"]))"
   ]
  },
  {
   "cell_type": "code",
   "execution_count": 117,
   "metadata": {},
   "outputs": [
    {
     "data": {
      "text/plain": [
       "{37265, 95396, 95398}"
      ]
     },
     "execution_count": 117,
     "metadata": {},
     "output_type": "execute_result"
    }
   ],
   "source": [
    "num_by_word[\"есть\"]"
   ]
  },
  {
   "cell_type": "code",
   "execution_count": 119,
   "metadata": {},
   "outputs": [
    {
     "name": "stdout",
     "output_type": "stream",
     "text": [
      "('VERB', ['есть', 'суть', 'есть', 'был', 'была', 'было', 'были', 'буду', 'будем', 'будешь', 'будете', 'будет', 'будут', 'будем', 'будь', 'будьте', 'е', 'есмь']) ('INTJ', ['есть']) ('INFN', ['есть'])\n"
     ]
    }
   ],
   "source": [
    "print(resdict[37265], resdict[95396], resdict[95398])"
   ]
  },
  {
   "cell_type": "code",
   "execution_count": 22,
   "metadata": {},
   "outputs": [
    {
     "data": {
      "text/plain": [
       "{334408, 334417}"
      ]
     },
     "execution_count": 22,
     "metadata": {},
     "output_type": "execute_result"
    }
   ],
   "source": [
    "num_by_word['стадий']"
   ]
  },
  {
   "cell_type": "code",
   "execution_count": 23,
   "metadata": {},
   "outputs": [
    {
     "data": {
      "text/plain": [
       "('NOUN',\n",
       " ['стадий',\n",
       "  'стадия',\n",
       "  'стадию',\n",
       "  'стадий',\n",
       "  'стадием',\n",
       "  'стадии',\n",
       "  'стадии',\n",
       "  'стадиев',\n",
       "  'стадиям',\n",
       "  'стадии',\n",
       "  'стадиями',\n",
       "  'стадиях'])"
      ]
     },
     "execution_count": 23,
     "metadata": {},
     "output_type": "execute_result"
    }
   ],
   "source": [
    "resdict[334408]"
   ]
  },
  {
   "cell_type": "code",
   "execution_count": null,
   "metadata": {},
   "outputs": [],
   "source": []
  }
 ],
 "metadata": {
  "kernelspec": {
   "display_name": "Python 3",
   "language": "python",
   "name": "python3"
  },
  "language_info": {
   "codemirror_mode": {
    "name": "ipython",
    "version": 3
   },
   "file_extension": ".py",
   "mimetype": "text/x-python",
   "name": "python",
   "nbconvert_exporter": "python",
   "pygments_lexer": "ipython3",
   "version": "3.7.3"
  }
 },
 "nbformat": 4,
 "nbformat_minor": 2
}
